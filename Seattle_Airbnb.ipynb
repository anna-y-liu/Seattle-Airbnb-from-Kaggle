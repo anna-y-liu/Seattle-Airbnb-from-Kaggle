{
 "cells": [
  {
   "cell_type": "markdown",
   "id": "a5f26f53",
   "metadata": {
    "extensions": {
     "jupyter_dashboards": {
      "version": 1,
      "views": {
       "grid_default": {},
       "report_default": {
        "hidden": false
       }
      }
     }
    }
   },
   "source": [
    "# Business Understanding\n",
    "The project is designed to help host find characters of the most popular lodging and the factors affecting the price range. Five business interest questions will guide readers to learn about the competitive level of Seattle lodging."
   ]
  },
  {
   "cell_type": "markdown",
   "id": "e23cb415",
   "metadata": {
    "extensions": {
     "jupyter_dashboards": {
      "version": 1,
      "views": {
       "grid_default": {},
       "report_default": {
        "hidden": false
       }
      }
     }
    }
   },
   "source": [
    "### Question 1: When and where does travelers want to go"
   ]
  },
  {
   "cell_type": "markdown",
   "id": "ee27c5e7",
   "metadata": {
    "extensions": {
     "jupyter_dashboards": {
      "version": 1,
      "views": {
       "grid_default": {},
       "report_default": {
        "hidden": false
       }
      }
     }
    }
   },
   "source": [
    "### Question 2: What does other host have for their lodging"
   ]
  },
  {
   "cell_type": "markdown",
   "id": "8788c4e1",
   "metadata": {
    "extensions": {
     "jupyter_dashboards": {
      "version": 1,
      "views": {
       "grid_default": {},
       "report_default": {
        "hidden": false
       }
      }
     }
    }
   },
   "source": [
    "### Question 3: What features affect lodging price the most?"
   ]
  },
  {
   "cell_type": "markdown",
   "id": "6ecbcd52",
   "metadata": {
    "extensions": {
     "jupyter_dashboards": {
      "version": 1,
      "views": {
       "grid_default": {},
       "report_default": {
        "hidden": false
       }
      }
     }
    }
   },
   "source": [
    "# Data Understanding"
   ]
  },
  {
   "cell_type": "markdown",
   "id": "d8f6830c",
   "metadata": {
    "extensions": {
     "jupyter_dashboards": {
      "version": 1,
      "views": {
       "grid_default": {},
       "report_default": {
        "hidden": false
       }
      }
     }
    }
   },
   "source": [
    "### Gather data from csv files\n",
    "There are three files provided from resouces: calender, listings and reviews"
   ]
  },
  {
   "cell_type": "code",
   "execution_count": null,
   "id": "1f155eb7",
   "metadata": {
    "extensions": {
     "jupyter_dashboards": {
      "version": 1,
      "views": {
       "grid_default": {},
       "report_default": {
        "hidden": true
       }
      }
     }
    }
   },
   "outputs": [],
   "source": [
    "import numpy as np\n",
    "import pandas as pd\n",
    "import matplotlib.pyplot as plt\n",
    "from sklearn.linear_model import LinearRegression\n",
    "from sklearn.model_selection import train_test_split\n",
    "from sklearn.metrics import r2_score, mean_squared_error\n",
    "import seaborn as sns\n",
    "%matplotlib inline\n",
    "\n",
    "#read data\n",
    "calendar = pd.read_csv('calendar.csv')\n",
    "listings = pd.read_csv('listings.csv')\n",
    "reviews = pd.read_csv('reviews.csv')"
   ]
  },
  {
   "cell_type": "markdown",
   "id": "e6d7d3c4",
   "metadata": {
    "extensions": {
     "jupyter_dashboards": {
      "version": 1,
      "views": {
       "grid_default": {},
       "report_default": {
        "hidden": false
       }
      }
     }
    }
   },
   "source": [
    "## A look of the data\n",
    "In Calendar file, there are 3181 lodging with records from 2016-01-04 to 2017-01-03\n",
    "\n",
    "price would be NaN if available is f"
   ]
  },
  {
   "cell_type": "markdown",
   "id": "a32fa837",
   "metadata": {
    "extensions": {
     "jupyter_dashboards": {
      "version": 1,
      "views": {
       "grid_default": {},
       "report_default": {
        "hidden": false
       }
      }
     }
    }
   },
   "source": [
    "### Calendar file"
   ]
  },
  {
   "cell_type": "code",
   "execution_count": null,
   "id": "adca8735",
   "metadata": {
    "extensions": {
     "jupyter_dashboards": {
      "version": 1,
      "views": {
       "grid_default": {},
       "report_default": {
        "hidden": false
       }
      }
     }
    }
   },
   "outputs": [],
   "source": [
    "calendar.shape"
   ]
  },
  {
   "cell_type": "code",
   "execution_count": null,
   "id": "9ee7c6c9",
   "metadata": {
    "extensions": {
     "jupyter_dashboards": {
      "version": 1,
      "views": {
       "grid_default": {},
       "report_default": {
        "hidden": false
       }
      }
     }
    }
   },
   "outputs": [],
   "source": [
    "calendar.head()"
   ]
  },
  {
   "cell_type": "code",
   "execution_count": null,
   "id": "36beed7a",
   "metadata": {
    "extensions": {
     "jupyter_dashboards": {
      "version": 1,
      "views": {
       "grid_default": {},
       "report_default": {
        "hidden": false
       }
      }
     }
    }
   },
   "outputs": [],
   "source": [
    "calendar.groupby('date').count()['listing_id'].value_counts()"
   ]
  },
  {
   "cell_type": "markdown",
   "id": "12c26b77",
   "metadata": {
    "extensions": {
     "jupyter_dashboards": {
      "version": 1,
      "views": {
       "grid_default": {},
       "report_default": {
        "hidden": false
       }
      }
     }
    }
   },
   "source": [
    "Calendar file is a date matters file recorded the listing data through out a year (365 days), from 2016-01-04 to 2017-01-02. Each date has listing status of 3818 lodgings, which means there are no missing listing. "
   ]
  },
  {
   "cell_type": "markdown",
   "id": "c929f142",
   "metadata": {
    "extensions": {
     "jupyter_dashboards": {
      "version": 1,
      "views": {
       "grid_default": {},
       "report_default": {
        "hidden": false
       }
      }
     }
    }
   },
   "source": [
    "### Listings file"
   ]
  },
  {
   "cell_type": "code",
   "execution_count": null,
   "id": "cd55b837",
   "metadata": {
    "extensions": {
     "jupyter_dashboards": {
      "version": 1,
      "views": {
       "grid_default": {},
       "report_default": {
        "hidden": false
       }
      }
     }
    }
   },
   "outputs": [],
   "source": [
    "listings.shape"
   ]
  },
  {
   "cell_type": "code",
   "execution_count": null,
   "id": "2b54ec6a",
   "metadata": {
    "extensions": {
     "jupyter_dashboards": {
      "version": 1,
      "views": {
       "grid_default": {},
       "report_default": {
        "hidden": false
       }
      }
     }
    }
   },
   "outputs": [],
   "source": [
    "listings.head()"
   ]
  },
  {
   "cell_type": "code",
   "execution_count": null,
   "id": "4ed070ec",
   "metadata": {
    "extensions": {
     "jupyter_dashboards": {
      "version": 1,
      "views": {
       "grid_default": {},
       "report_default": {
        "hidden": false
       }
      }
     }
    }
   },
   "outputs": [],
   "source": [
    "listings.dtypes.value_counts()"
   ]
  },
  {
   "cell_type": "code",
   "execution_count": null,
   "id": "01474ad2",
   "metadata": {
    "extensions": {
     "jupyter_dashboards": {
      "version": 1,
      "views": {
       "grid_default": {},
       "report_default": {
        "hidden": false
       }
      }
     }
    }
   },
   "outputs": [],
   "source": [
    "listings.select_dtypes('object').columns"
   ]
  },
  {
   "cell_type": "code",
   "execution_count": null,
   "id": "c62c93bf",
   "metadata": {
    "extensions": {
     "jupyter_dashboards": {
      "version": 1,
      "views": {
       "grid_default": {},
       "report_default": {
        "hidden": false
       }
      }
     }
    }
   },
   "outputs": [],
   "source": [
    "listings.select_dtypes(['float64','int64']).columns"
   ]
  },
  {
   "cell_type": "markdown",
   "id": "32fb81e9",
   "metadata": {
    "extensions": {
     "jupyter_dashboards": {
      "version": 1,
      "views": {
       "grid_default": {},
       "report_default": {
        "hidden": false
       }
      }
     }
    }
   },
   "source": [
    "There are 62 object variables and 30 numeric variables. \n",
    "\n",
    "The columns we are interested in are variables related to price and views. But the price-related variables are object type, meaning the data needs to be converted. \n",
    "\n",
    "At the same time, there are variables related to id and URL which should not be considered when doing analysis. "
   ]
  },
  {
   "cell_type": "markdown",
   "id": "a86f8610",
   "metadata": {
    "extensions": {
     "jupyter_dashboards": {
      "version": 1,
      "views": {
       "grid_default": {},
       "report_default": {
        "hidden": false
       }
      }
     }
    }
   },
   "source": [
    "### Reviews file"
   ]
  },
  {
   "cell_type": "code",
   "execution_count": null,
   "id": "96390305",
   "metadata": {
    "extensions": {
     "jupyter_dashboards": {
      "version": 1,
      "views": {
       "grid_default": {},
       "report_default": {
        "hidden": false
       }
      }
     }
    }
   },
   "outputs": [],
   "source": [
    "reviews.head()"
   ]
  },
  {
   "cell_type": "code",
   "execution_count": null,
   "id": "7bcc1246",
   "metadata": {
    "extensions": {
     "jupyter_dashboards": {
      "version": 1,
      "views": {
       "grid_default": {},
       "report_default": {
        "hidden": false
       }
      }
     }
    }
   },
   "outputs": [],
   "source": [
    "reviews.shape"
   ]
  },
  {
   "cell_type": "code",
   "execution_count": null,
   "id": "a06e7678",
   "metadata": {
    "extensions": {
     "jupyter_dashboards": {
      "version": 1,
      "views": {
       "grid_default": {},
       "report_default": {
        "hidden": false
       }
      }
     }
    }
   },
   "outputs": [],
   "source": [
    "#find the listing that has more than 1 reviews\n",
    "multi_review = reviews.groupby('listing_id').filter(lambda x: x['comments'].count() > 1)\n",
    "multi_review"
   ]
  },
  {
   "cell_type": "code",
   "execution_count": null,
   "id": "c07108ad",
   "metadata": {
    "extensions": {
     "jupyter_dashboards": {
      "version": 1,
      "views": {
       "grid_default": {},
       "report_default": {
        "hidden": false
       }
      }
     }
    }
   },
   "outputs": [],
   "source": [
    "listing_count = len(set(reviews.listing_id))\n",
    "listing_multi_review_count = len(set(multi_review.listing_id))\n",
    "print('There are', listing_count, 'different lodging in the dataset,', \n",
    "     listing_multi_review_count, 'of them have more than 1 reviews')"
   ]
  },
  {
   "cell_type": "code",
   "execution_count": null,
   "id": "054a976f",
   "metadata": {
    "extensions": {
     "jupyter_dashboards": {
      "version": 1,
      "views": {
       "grid_default": {},
       "report_default": {
        "hidden": false
       }
      }
     }
    }
   },
   "outputs": [],
   "source": [
    "reviews.date.sort_values()"
   ]
  },
  {
   "cell_type": "markdown",
   "id": "4fdfff4b",
   "metadata": {
    "extensions": {
     "jupyter_dashboards": {
      "version": 1,
      "views": {
       "grid_default": {},
       "report_default": {
        "hidden": false
       }
      }
     }
    }
   },
   "source": [
    "The reviews file gather comments from 2009-06-07 to 2016-01-03, before calendar file timeframe. "
   ]
  },
  {
   "cell_type": "markdown",
   "id": "f25dfe87",
   "metadata": {
    "extensions": {
     "jupyter_dashboards": {
      "version": 1,
      "views": {
       "grid_default": {},
       "report_default": {
        "hidden": false
       }
      }
     }
    }
   },
   "source": [
    "# Data preparation"
   ]
  },
  {
   "cell_type": "markdown",
   "id": "757637e5",
   "metadata": {
    "extensions": {
     "jupyter_dashboards": {
      "version": 1,
      "views": {
       "grid_default": {},
       "report_default": {
        "hidden": false
       }
      }
     }
    }
   },
   "source": [
    "### *Reference: Defined Functions\n",
    "Function that used for data cleaning"
   ]
  },
  {
   "cell_type": "code",
   "execution_count": null,
   "id": "910776c9",
   "metadata": {
    "extensions": {
     "jupyter_dashboards": {
      "version": 1,
      "views": {
       "grid_default": {},
       "report_default": {
        "hidden": true
       }
      }
     }
    }
   },
   "outputs": [],
   "source": [
    "def to_season(month: int):\n",
    "    '''\n",
    "    Convert month to season by [winter, spring, summer, fall] -> [0,1,2,3]\n",
    "    \n",
    "    input: \n",
    "            month: month in number format\n",
    "    output: \n",
    "            season as in number, with (0, 1, 2, 3) as in (winter, spring, summer, fall)\n",
    "    \n",
    "    '''\n",
    "    if month in [12,1,2]:\n",
    "        return 0\n",
    "    elif month in [3,4,5]:\n",
    "        return 1\n",
    "    elif month in [6,7,8]:\n",
    "        return 2\n",
    "    else: \n",
    "        return 3"
   ]
  },
  {
   "cell_type": "code",
   "execution_count": null,
   "id": "80547f88",
   "metadata": {
    "extensions": {
     "jupyter_dashboards": {
      "version": 1,
      "views": {
       "grid_default": {},
       "report_default": {
        "hidden": true
       }
      }
     }
    }
   },
   "outputs": [],
   "source": [
    "def divide_date_columns(dataframe, column_name, seperator = '-', date_sequence: list = ['year', 'month', 'day'], drop_org = False):\n",
    "    '''\n",
    "    Covert date columns to seperate columns with given seperator and sequence\n",
    "    eg. orginal format as 1999-12-31 as [year, month, day] with seperator '-'\n",
    "        \n",
    "    input:    \n",
    "            seperator: the charactor that seperate day, month, year in the original column\n",
    "            date_sequence: a list with the order of year, month, day of original column\n",
    "            drop_org: True/False, decide whether to drop the original columns\n",
    "    output: \n",
    "            dataframe: new dataframe which is processed based on given parameters\n",
    "    '''\n",
    "    \n",
    "    #test the whether column name is a list, if not, convert to list. \n",
    "    try:\n",
    "        column_name = column_name.split()\n",
    "    except: \n",
    "        pass\n",
    "    \n",
    "    #convert data with given column names\n",
    "    for col in column_name: \n",
    "        for i, form in enumerate(date_sequence): \n",
    "            dataframe[col+'_'+form] = dataframe[col].apply(lambda date: date.split(seperator)[i])\n",
    "        dataframe[col+'_season'] = dataframe[col+'_'+'month'].apply(lambda month: to_season(int(month)))\n",
    "        if drop_org:\n",
    "            dataframe.drop(col)\n",
    "    return dataframe"
   ]
  },
  {
   "cell_type": "code",
   "execution_count": null,
   "id": "f91368d6",
   "metadata": {
    "extensions": {
     "jupyter_dashboards": {
      "version": 1,
      "views": {
       "grid_default": {},
       "report_default": {
        "hidden": true
       }
      }
     }
    }
   },
   "outputs": [],
   "source": [
    "def convert_price(dataframe, column_name):\n",
    "    '''\n",
    "    convert price column to numeric value\n",
    "    \n",
    "    input: \n",
    "            dataframe: the dataframe that need to convert price columns to numeric value\n",
    "            column_name: the name of price columns, can be list or a name of string\n",
    "    output: \n",
    "            dataframe: new dataframe with target column converted\n",
    "    '''\n",
    "    \n",
    "    #test the whether column name is a list, if not, convert to list. \n",
    "    try:\n",
    "        column_name = column_name.split()\n",
    "    except: \n",
    "        pass\n",
    "        \n",
    "    #convert data with given column names\n",
    "    for col in column_name:\n",
    "        dataframe[col] = dataframe[col].str.replace('[\\$,]', '', regex=True).astype('float64').fillna(0)\n",
    "    \n",
    "    return dataframe"
   ]
  },
  {
   "cell_type": "markdown",
   "id": "1de4af55",
   "metadata": {},
   "source": [
    "### Drop the column has large portion of missing value\n",
    "Remove column that contain more than 80% NaN / Null"
   ]
  },
  {
   "cell_type": "code",
   "execution_count": null,
   "id": "cd982981",
   "metadata": {
    "extensions": {
     "jupyter_dashboards": {
      "version": 1,
      "views": {
       "grid_default": {},
       "report_default": {
        "hidden": true
       }
      }
     }
    }
   },
   "outputs": [],
   "source": [
    "listings = listings.drop(listings.columns[listings.isna().mean() > 0.80], axis = 1)"
   ]
  },
  {
   "cell_type": "markdown",
   "id": "b87383a0",
   "metadata": {
    "extensions": {
     "jupyter_dashboards": {
      "version": 1,
      "views": {
       "grid_default": {},
       "report_default": {
        "hidden": false
       }
      }
     }
    }
   },
   "source": [
    "### Convert price column in listings and calendar"
   ]
  },
  {
   "cell_type": "markdown",
   "id": "16eb6616",
   "metadata": {
    "extensions": {
     "jupyter_dashboards": {
      "version": 1,
      "views": {
       "grid_default": {},
       "report_default": {
        "hidden": false
       }
      }
     }
    }
   },
   "source": [
    "Remove symbol in price columns and convert to float. By the nature of price, we can take NaN value in price as 0, thus replace NaN value as 0. "
   ]
  },
  {
   "cell_type": "code",
   "execution_count": null,
   "id": "9613392a",
   "metadata": {},
   "outputs": [],
   "source": [
    "#Calendar file\n",
    "calendar = convert_price(calendar, 'price')"
   ]
  },
  {
   "cell_type": "code",
   "execution_count": null,
   "id": "38de5de0",
   "metadata": {
    "extensions": {
     "jupyter_dashboards": {
      "version": 1,
      "views": {
       "grid_default": {},
       "report_default": {
        "hidden": true
       }
      }
     }
    }
   },
   "outputs": [],
   "source": [
    "#Lising file\n",
    "col_price = ['price','weekly_price','monthly_price','security_deposit','cleaning_fee','extra_people']\n",
    "listings = convert_price(listings, col_price)"
   ]
  },
  {
   "cell_type": "code",
   "execution_count": null,
   "id": "96b1acf0",
   "metadata": {},
   "outputs": [],
   "source": [
    "listings[col_price]"
   ]
  },
  {
   "cell_type": "markdown",
   "id": "cc3f48d3",
   "metadata": {},
   "source": [
    "### Convert rate column to numeric"
   ]
  },
  {
   "cell_type": "code",
   "execution_count": null,
   "id": "ef34ae6a",
   "metadata": {
    "extensions": {
     "jupyter_dashboards": {
      "version": 1,
      "views": {
       "grid_default": {},
       "report_default": {
        "hidden": true
       }
      }
     }
    }
   },
   "outputs": [],
   "source": [
    "col_rate = listings.columns[listings.columns.str.endswith('rate')]\n",
    "for col in col_rate:\n",
    "    listings[col] = listings[col].fillna(listings[col].mode()[0]).str.replace('%', '').astype('float64').apply(lambda row: row / 100)"
   ]
  },
  {
   "cell_type": "markdown",
   "id": "858a885a",
   "metadata": {},
   "source": [
    "### Fill NaN value in Review columns in listings file"
   ]
  },
  {
   "cell_type": "code",
   "execution_count": null,
   "id": "08fafca0",
   "metadata": {
    "extensions": {
     "jupyter_dashboards": {
      "version": 1,
      "views": {
       "grid_default": {},
       "report_default": {
        "hidden": true
       }
      }
     }
    }
   },
   "outputs": [],
   "source": [
    "#find review column\n",
    "col_review = listings.columns[listings.columns.str.startswith('review')]\n",
    "listings[listings[col_review].isna().all(axis = 1)].shape[0]"
   ]
  },
  {
   "cell_type": "markdown",
   "id": "98b6b092",
   "metadata": {},
   "source": [
    "### Clean categorical variable\n",
    "Find the categorical variable, if numeric then convert to number; if there is only one category, then drop; if binary, replace with 0 and 1. "
   ]
  },
  {
   "cell_type": "code",
   "execution_count": null,
   "id": "ab9fef39",
   "metadata": {
    "extensions": {
     "jupyter_dashboards": {
      "version": 1,
      "views": {
       "grid_default": {},
       "report_default": {
        "hidden": true
       }
      }
     }
    }
   },
   "outputs": [],
   "source": [
    "#make a list of object variable\n",
    "col_obj = listings.select_dtypes('object').columns.tolist()"
   ]
  },
  {
   "cell_type": "code",
   "execution_count": null,
   "id": "7b8ebada",
   "metadata": {},
   "outputs": [],
   "source": [
    "#get rid of the column with only one category\n",
    "for col in col_obj:\n",
    "    if len(pd.unique(listings[col].str.lower())) == 1:\n",
    "        listings = listings.drop(col, axis = 1)\n",
    "        col_obj.remove(col)"
   ]
  },
  {
   "cell_type": "code",
   "execution_count": null,
   "id": "d245af52",
   "metadata": {
    "extensions": {
     "jupyter_dashboards": {
      "version": 1,
      "views": {
       "grid_default": {},
       "report_default": {
        "hidden": true
       }
      }
     }
    }
   },
   "outputs": [],
   "source": [
    "#replace binary column with f, t to 0, 1\n",
    "col_binary = []\n",
    "#Calendar file: replace available variable to 0 / 1\n",
    "calendar['available'] = calendar['available'].apply(lambda x:1 if x=='t' else 0) \n",
    "calendar\n",
    "for col in col_obj: #listings file\n",
    "    if 'f' in pd.unique(listings[col].str.lower()):\n",
    "        col_binary.append(col)\n",
    "        listings[col] = listings[col].apply(lambda x:1 if x=='t' else 0)"
   ]
  },
  {
   "cell_type": "code",
   "execution_count": null,
   "id": "cb98d6a6",
   "metadata": {},
   "outputs": [],
   "source": [
    "col_binary"
   ]
  },
  {
   "cell_type": "markdown",
   "id": "653ff0e2",
   "metadata": {},
   "source": [
    "### Seperate date column to three column as in year, month and day\n",
    "in order to see the distribution of booking compare to month, obtain the month from date column"
   ]
  },
  {
   "cell_type": "code",
   "execution_count": null,
   "id": "506f64f5",
   "metadata": {
    "extensions": {
     "jupyter_dashboards": {
      "version": 1,
      "views": {
       "grid_default": {},
       "report_default": {
        "hidden": false
       }
      }
     }
    }
   },
   "outputs": [],
   "source": [
    "calendar = divide_date_columns(calendar, 'date')"
   ]
  },
  {
   "cell_type": "markdown",
   "id": "7623d687",
   "metadata": {},
   "source": [
    "# Evaluate the Results"
   ]
  },
  {
   "cell_type": "markdown",
   "id": "b8492c29",
   "metadata": {
    "extensions": {
     "jupyter_dashboards": {
      "version": 1,
      "views": {
       "grid_default": {
        "hidden": true
       },
       "report_default": {
        "hidden": true
       }
      }
     }
    }
   },
   "source": [
    "### Question 1: When and where does travelers want to go\n",
    "Using the available rate, we can see the percentage of day that lodgingis not booked by traverler. The available rate will be calculted as percentage of available lodging and date within each zip code area and month. "
   ]
  },
  {
   "cell_type": "code",
   "execution_count": null,
   "id": "e304fbd6",
   "metadata": {
    "extensions": {
     "jupyter_dashboards": {
      "version": 1,
      "views": {
       "grid_default": {},
       "report_default": {
        "hidden": true
       }
      }
     }
    }
   },
   "outputs": [],
   "source": [
    "calendar_available_permonth = calendar.groupby('date_month').mean()['available']\n",
    "calendar_available_permonth.reset_index(inplace=True)\n",
    "calendar_available_perlisting = calendar.groupby('listing_id').mean()['available']\n",
    "calendar_available_perlisting = pd.DataFrame(calendar_available_perlisting).reset_index()"
   ]
  },
  {
   "cell_type": "markdown",
   "id": "d95edd0b",
   "metadata": {
    "extensions": {
     "jupyter_dashboards": {
      "version": 1,
      "views": {
       "grid_default": {},
       "report_default": {
        "hidden": false
       }
      }
     }
    }
   },
   "source": [
    "##### A line plot showing the trend of available rate over months"
   ]
  },
  {
   "cell_type": "code",
   "execution_count": null,
   "id": "45462213",
   "metadata": {
    "extensions": {
     "jupyter_dashboards": {
      "version": 1,
      "views": {
       "grid_default": {},
       "report_default": {
        "hidden": true
       }
      }
     }
    }
   },
   "outputs": [],
   "source": [
    "plt.figure(figsize=(20, 10))\n",
    "x = calendar_available_permonth['date_month']\n",
    "y = calendar_available_permonth['available']\n",
    "plt.plot(x,y,linewidth=3.0)\n",
    "plt.xlabel('Month', )\n",
    "plt.ylabel('Available rate')\n",
    "plt.title('Month vs Available rate')\n",
    "plt.axis([0, 12, 0.5, 0.8])\n",
    "plt.grid(False)\n",
    "plt.savefig('Available rate by month.png')\n",
    "plt.show()"
   ]
  },
  {
   "cell_type": "code",
   "execution_count": null,
   "id": "f6ef56ba",
   "metadata": {
    "extensions": {
     "jupyter_dashboards": {
      "version": 1,
      "views": {
       "grid_default": {},
       "report_default": {
        "hidden": true
       }
      }
     }
    }
   },
   "outputs": [],
   "source": [
    "calendar_available_perseason = calendar.groupby('date_season').mean()['available']\n",
    "calendar_available_perseason = pd.DataFrame(calendar_available_perseason).reset_index()\n",
    "calendar_available_perseason"
   ]
  },
  {
   "cell_type": "code",
   "execution_count": null,
   "id": "e2d6e059",
   "metadata": {
    "extensions": {
     "jupyter_dashboards": {
      "version": 1,
      "views": {
       "grid_default": {},
       "report_default": {
        "hidden": true
       }
      }
     }
    }
   },
   "outputs": [],
   "source": [
    "x = calendar_available_perseason.date_season\n",
    "xi = list(range(len(x)))\n",
    "y = calendar_available_perseason.available\n",
    "plt.bar(xi, y, color ='maroon', width = 0.4)\n",
    "plt.xticks(np.arange(0, 4, step=1))\n",
    "plt.show()"
   ]
  },
  {
   "cell_type": "markdown",
   "id": "ba7e4218",
   "metadata": {
    "extensions": {
     "jupyter_dashboards": {
      "version": 1,
      "views": {
       "grid_default": {
        "hidden": true
       },
       "report_default": {
        "hidden": true
       }
      }
     }
    }
   },
   "source": [
    "### Question 2: What does other host have for their lodging"
   ]
  },
  {
   "cell_type": "markdown",
   "id": "9eaf749d",
   "metadata": {
    "extensions": {
     "jupyter_dashboards": {
      "version": 1,
      "views": {
       "grid_default": {
        "hidden": true
       },
       "report_default": {
        "hidden": true
       }
      }
     }
    }
   },
   "source": [
    "### Question 3: What features affect lodging price the most?"
   ]
  },
  {
   "cell_type": "markdown",
   "id": "6c51ee02",
   "metadata": {
    "extensions": {
     "jupyter_dashboards": {
      "version": 1,
      "views": {
       "grid_default": {},
       "report_default": {
        "hidden": false
       }
      }
     }
    }
   },
   "source": [
    "### In listings file, we are interest in price related and review related column\n",
    "There are 90 variable describe the 3181 lodging, want to learn information like location, house size, lodging type and etc. "
   ]
  },
  {
   "cell_type": "code",
   "execution_count": null,
   "id": "2f332133",
   "metadata": {
    "extensions": {
     "jupyter_dashboards": {
      "version": 1,
      "views": {
       "grid_default": {},
       "report_default": {
        "hidden": true
       }
      }
     }
    }
   },
   "outputs": [],
   "source": [
    "listings.isna().mean().sort_values()"
   ]
  },
  {
   "cell_type": "markdown",
   "id": "f5857ba7",
   "metadata": {
    "extensions": {
     "jupyter_dashboards": {
      "version": 1,
      "views": {
       "grid_default": {},
       "report_default": {
        "hidden": false
       }
      }
     }
    }
   },
   "source": [
    "#### Clean data, fill na and convert data type"
   ]
  },
  {
   "cell_type": "markdown",
   "id": "11e694de",
   "metadata": {
    "extensions": {
     "jupyter_dashboards": {
      "version": 1,
      "views": {
       "grid_default": {},
       "report_default": {
        "hidden": false
       }
      }
     }
    }
   },
   "source": [
    "### Find the distribution"
   ]
  },
  {
   "cell_type": "markdown",
   "id": "dfb4b35b",
   "metadata": {
    "extensions": {
     "jupyter_dashboards": {
      "version": 1,
      "views": {
       "grid_default": {},
       "report_default": {
        "hidden": false
       }
      }
     }
    }
   },
   "source": [
    "##### The zipcode versus location review"
   ]
  },
  {
   "cell_type": "code",
   "execution_count": null,
   "id": "bea8ff22",
   "metadata": {
    "extensions": {
     "jupyter_dashboards": {
      "version": 1,
      "views": {
       "grid_default": {},
       "report_default": {
        "hidden": true
       }
      }
     }
    }
   },
   "outputs": [],
   "source": [
    "listings['zipcode'] = listings['zipcode'].replace('99\\n98122', '98122') #modify content\n",
    "listings.columns"
   ]
  },
  {
   "cell_type": "code",
   "execution_count": null,
   "id": "bd2df361",
   "metadata": {
    "extensions": {
     "jupyter_dashboards": {
      "version": 1,
      "views": {
       "grid_default": {},
       "report_default": {
        "hidden": true
       }
      }
     }
    }
   },
   "outputs": [],
   "source": [
    "col_interest = ['review_scores_rating', 'review_scores_accuracy',\n",
    "       'review_scores_cleanliness', 'review_scores_checkin',\n",
    "       'review_scores_communication', 'review_scores_location',\n",
    "       'review_scores_value', 'price', 'house size']"
   ]
  },
  {
   "cell_type": "code",
   "execution_count": null,
   "id": "23eb826b",
   "metadata": {
    "extensions": {
     "jupyter_dashboards": {
      "version": 1,
      "views": {
       "grid_default": {},
       "report_default": {
        "hidden": true
       }
      }
     }
    }
   },
   "outputs": [],
   "source": [
    "# create the table of counts of the zipcode and average review\n",
    "zipcode_counts = listings.zipcode.value_counts().sort_index()\n",
    "\n",
    "# converting to df and assigning new names to the columns\n",
    "df_zipcode_counts = pd.DataFrame(zipcode_counts)\n",
    "df_zipcode_counts = df_zipcode_counts.reset_index()\n",
    "df_zipcode_counts.columns = ['zipcode', 'counts'] # change column names\n",
    "df_zipcode_counts['average_review'] = listings[['zipcode','review_scores_location']].groupby('zipcode').mean().reset_index()['review_scores_location']"
   ]
  },
  {
   "cell_type": "code",
   "execution_count": null,
   "id": "1e5400b4",
   "metadata": {
    "extensions": {
     "jupyter_dashboards": {
      "version": 1,
      "views": {
       "grid_default": {},
       "report_default": {
        "hidden": true
       }
      }
     }
    }
   },
   "outputs": [],
   "source": [
    "# 98118\t154\t9.000000\n",
    "df_zipcode_counts = df_zipcode_counts.sort_values('average_review', ascending= False)"
   ]
  },
  {
   "cell_type": "code",
   "execution_count": null,
   "id": "f6e96a83",
   "metadata": {
    "extensions": {
     "jupyter_dashboards": {
      "version": 1,
      "views": {
       "grid_default": {},
       "report_default": {
        "hidden": true
       }
      }
     }
    }
   },
   "outputs": [],
   "source": [
    "df_zipcode_counts"
   ]
  },
  {
   "cell_type": "markdown",
   "id": "a6d617dc",
   "metadata": {
    "extensions": {
     "jupyter_dashboards": {
      "version": 1,
      "views": {
       "grid_default": {},
       "report_default": {
        "hidden": false
       }
      }
     }
    }
   },
   "source": [
    "#### hard to see the trend with line chart"
   ]
  },
  {
   "cell_type": "code",
   "execution_count": null,
   "id": "1bb52e11",
   "metadata": {
    "extensions": {
     "jupyter_dashboards": {
      "version": 1,
      "views": {
       "grid_default": {},
       "report_default": {
        "hidden": true
       }
      }
     }
    }
   },
   "outputs": [],
   "source": [
    "fig, ax1 = plt.subplots(figsize=(20, 8))\n",
    "\n",
    "plt.figure(figsize=(20, 10))\n",
    "x = df_zipcode_counts.sort_values('counts',ascending= False)['zipcode']\n",
    "y = df_zipcode_counts.sort_values('counts',ascending= False)['counts']\n",
    "y2 = df_zipcode_counts.sort_values('counts',ascending= False)['average_review']\n",
    "\n",
    "color = 'tab:blue'\n",
    "ax1.set_xlabel('zipcode')\n",
    "ax1.set_ylabel('number of lodging', color = color)\n",
    "ax1.plot(x, y, color = color)\n",
    "ax1.tick_params(axis ='y', labelcolor = color)\n",
    "  \n",
    "ax2 = ax1.twinx()\n",
    "  \n",
    "color = 'tab:green'\n",
    "ax2.set_ylabel('average_review', color = color)\n",
    "ax2.plot(x, y2, color = color)\n",
    "ax2.tick_params(axis ='y', labelcolor = color)\n",
    "  \n",
    "fig.suptitle('The distribution of lodging', fontweight =\"regular\", fontsize = 35)\n",
    "plt.show()"
   ]
  },
  {
   "cell_type": "markdown",
   "id": "f87233c5",
   "metadata": {
    "extensions": {
     "jupyter_dashboards": {
      "version": 1,
      "views": {
       "grid_default": {},
       "report_default": {
        "hidden": false
       }
      }
     }
    }
   },
   "source": [
    "#### availability per zipcode"
   ]
  },
  {
   "cell_type": "code",
   "execution_count": null,
   "id": "1a11188e",
   "metadata": {
    "extensions": {
     "jupyter_dashboards": {
      "version": 1,
      "views": {
       "grid_default": {},
       "report_default": {
        "hidden": true
       }
      }
     }
    }
   },
   "outputs": [],
   "source": [
    "listings = listings.join(calendar_available_perlisting, lsuffix = 'id', rsuffix='listing_id')"
   ]
  },
  {
   "cell_type": "code",
   "execution_count": null,
   "id": "4508cafa",
   "metadata": {
    "extensions": {
     "jupyter_dashboards": {
      "version": 1,
      "views": {
       "grid_default": {},
       "report_default": {
        "hidden": true
       }
      }
     }
    }
   },
   "outputs": [],
   "source": [
    "listings.groupby('zipcode').mean()['available'].to_csv('zipcode_available.csv')"
   ]
  },
  {
   "cell_type": "markdown",
   "id": "8892ed00",
   "metadata": {
    "extensions": {
     "jupyter_dashboards": {
      "version": 1,
      "views": {
       "grid_default": {},
       "report_default": {
        "hidden": false
       }
      }
     }
    }
   },
   "source": [
    "#### house features: room number, bathrooms, beds, amenities etc. "
   ]
  },
  {
   "cell_type": "code",
   "execution_count": null,
   "id": "f711c461",
   "metadata": {
    "extensions": {
     "jupyter_dashboards": {
      "version": 1,
      "views": {
       "grid_default": {},
       "report_default": {
        "hidden": true
       }
      }
     }
    }
   },
   "outputs": [],
   "source": [
    "#take the number of amenities as one of the house features \n",
    "listings['amenities_counts'] = listings['amenities'].str.replace('[{}]', '', regex=True).apply(lambda x: len(x.split(',')))"
   ]
  },
  {
   "cell_type": "code",
   "execution_count": null,
   "id": "ccd73477",
   "metadata": {
    "extensions": {
     "jupyter_dashboards": {
      "version": 1,
      "views": {
       "grid_default": {},
       "report_default": {
        "hidden": true
       }
      }
     }
    }
   },
   "outputs": [],
   "source": [
    "amenities_list = listings['amenities'].str.replace('[{\"}]', '', regex=True).apply(lambda x: x.split(','))\n",
    "amenities = []\n",
    "for row in amenities_list:\n",
    "    amenities = list(set(amenities + row))\n",
    "amenities.remove('')\n",
    "# test = 0\n",
    "# while test < 6:\n",
    "#     print(listings['amenities'][test].split(','))\n",
    "#     test += 1\n",
    "# for row in listings['amenities']: "
   ]
  },
  {
   "cell_type": "code",
   "execution_count": null,
   "id": "80ce46a3",
   "metadata": {
    "extensions": {
     "jupyter_dashboards": {
      "version": 1,
      "views": {
       "grid_default": {},
       "report_default": {
        "hidden": true
       }
      }
     }
    }
   },
   "outputs": [],
   "source": [
    "# import pprint\n",
    "# pp = pprint.PrettyPrinter(width=80, compact=True)\n",
    "# pp.pprint(amentities)\n",
    "amenities.sort(key = len)\n",
    "pd.DataFrame(amenities).to_excel('amenities.xlsx')"
   ]
  },
  {
   "cell_type": "code",
   "execution_count": null,
   "id": "fc78438d",
   "metadata": {
    "extensions": {
     "jupyter_dashboards": {
      "version": 1,
      "views": {
       "grid_default": {},
       "report_default": {
        "hidden": true
       }
      }
     }
    }
   },
   "outputs": [],
   "source": [
    "listings.describe()['amenities_counts']"
   ]
  },
  {
   "cell_type": "markdown",
   "id": "a9ae456e",
   "metadata": {
    "extensions": {
     "jupyter_dashboards": {
      "version": 1,
      "views": {
       "grid_default": {},
       "report_default": {
        "hidden": false
       }
      }
     }
    }
   },
   "source": [
    "### Correlation with price"
   ]
  },
  {
   "cell_type": "code",
   "execution_count": null,
   "id": "62f66df1",
   "metadata": {
    "extensions": {
     "jupyter_dashboards": {
      "version": 1,
      "views": {
       "grid_default": {},
       "report_default": {
        "hidden": true
       }
      }
     }
    }
   },
   "outputs": [],
   "source": [
    "col_id = listings.columns[listings.columns.str.endswith('id')]\n",
    "listings.select_dtypes(['int64','float64']).drop(col_binary+list(col_review)+list(col_id),axis = 1).corr()['price'].sort_values(ascending = False)"
   ]
  },
  {
   "cell_type": "code",
   "execution_count": null,
   "id": "ebd9c5dd",
   "metadata": {
    "extensions": {
     "jupyter_dashboards": {
      "version": 1,
      "views": {
       "grid_default": {},
       "report_default": {
        "hidden": true
       }
      }
     }
    }
   },
   "outputs": [],
   "source": [
    "listings['price_per_person'] = listings['price']/listings['accommodates']"
   ]
  },
  {
   "cell_type": "markdown",
   "id": "21e26488",
   "metadata": {
    "extensions": {
     "jupyter_dashboards": {
      "version": 1,
      "views": {
       "grid_default": {},
       "report_default": {
        "hidden": false
       }
      }
     }
    }
   },
   "source": [
    "### Type of lodgings"
   ]
  },
  {
   "cell_type": "code",
   "execution_count": null,
   "id": "1486c2bf",
   "metadata": {
    "extensions": {
     "jupyter_dashboards": {
      "version": 1,
      "views": {
       "grid_default": {},
       "report_default": {
        "hidden": true
       }
      }
     }
    }
   },
   "outputs": [],
   "source": [
    "listings.groupby(listings['property_type']).mean()['price_per_person'].sort_values(ascending = False)"
   ]
  },
  {
   "cell_type": "code",
   "execution_count": null,
   "id": "a9b11ad2",
   "metadata": {
    "extensions": {
     "jupyter_dashboards": {
      "version": 1,
      "views": {
       "grid_default": {},
       "report_default": {
        "hidden": true
       }
      }
     }
    }
   },
   "outputs": [],
   "source": [
    "listings.select_dtypes(['int64','float64']).drop(col_binary+list(col_review)+list(col_id),axis = 1).corr()['price_per_person'].sort_values(ascending = False)"
   ]
  },
  {
   "cell_type": "code",
   "execution_count": null,
   "id": "7d0f410e",
   "metadata": {
    "extensions": {
     "jupyter_dashboards": {
      "version": 1,
      "views": {
       "grid_default": {},
       "report_default": {
        "hidden": true
       }
      }
     }
    }
   },
   "outputs": [],
   "source": []
  }
 ],
 "metadata": {
  "extensions": {
   "jupyter_dashboards": {
    "activeView": "grid_default",
    "version": 1,
    "views": {
     "grid_default": {
      "cellMargin": 10,
      "defaultCellHeight": 20,
      "maxColumns": 12,
      "name": "grid",
      "type": "grid"
     },
     "report_default": {
      "name": "report",
      "type": "report"
     }
    }
   }
  },
  "kernelspec": {
   "display_name": "Python 3 (ipykernel)",
   "language": "python",
   "name": "python3"
  },
  "language_info": {
   "codemirror_mode": {
    "name": "ipython",
    "version": 3
   },
   "file_extension": ".py",
   "mimetype": "text/x-python",
   "name": "python",
   "nbconvert_exporter": "python",
   "pygments_lexer": "ipython3",
   "version": "3.9.7"
  }
 },
 "nbformat": 4,
 "nbformat_minor": 5
}
